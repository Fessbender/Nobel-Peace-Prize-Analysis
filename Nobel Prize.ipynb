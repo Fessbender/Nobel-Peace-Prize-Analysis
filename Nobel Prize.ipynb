{
 "cells": [
  {
   "cell_type": "code",
   "execution_count": 1,
   "metadata": {},
   "outputs": [],
   "source": [
    "import numpy as np\n",
    "import pandas as pd\n",
    "import matplotlib.pyplot as plt\n",
    "import seaborn as sns\n",
    "import warnings\n",
    "warnings.filterwarnings('ignore')"
   ]
  },
  {
   "cell_type": "code",
   "execution_count": 2,
   "metadata": {},
   "outputs": [],
   "source": [
    "Nobel_Prize_data = pd.read_csv('G:/Nobel Peace Prize analysis/Nobel Prize Winners.csv')"
   ]
  },
  {
   "cell_type": "code",
   "execution_count": 3,
   "metadata": {},
   "outputs": [
    {
     "data": {
      "text/html": [
       "<div>\n",
       "<style scoped>\n",
       "    .dataframe tbody tr th:only-of-type {\n",
       "        vertical-align: middle;\n",
       "    }\n",
       "\n",
       "    .dataframe tbody tr th {\n",
       "        vertical-align: top;\n",
       "    }\n",
       "\n",
       "    .dataframe thead th {\n",
       "        text-align: right;\n",
       "    }\n",
       "</style>\n",
       "<table border=\"1\" class=\"dataframe\">\n",
       "  <thead>\n",
       "    <tr style=\"text-align: right;\">\n",
       "      <th></th>\n",
       "      <th>firstname</th>\n",
       "      <th>surname</th>\n",
       "      <th>born_country_code</th>\n",
       "      <th>died_country_code</th>\n",
       "      <th>gender</th>\n",
       "      <th>year</th>\n",
       "      <th>category</th>\n",
       "      <th>share</th>\n",
       "      <th>name_of_university</th>\n",
       "      <th>city_of_university</th>\n",
       "      <th>country_of_university</th>\n",
       "      <th>born_month</th>\n",
       "      <th>age</th>\n",
       "      <th>age_get_prize</th>\n",
       "    </tr>\n",
       "  </thead>\n",
       "  <tbody>\n",
       "    <tr>\n",
       "      <th>0</th>\n",
       "      <td>Wilhelm Conrad</td>\n",
       "      <td>Röntgen</td>\n",
       "      <td>DE</td>\n",
       "      <td>DE</td>\n",
       "      <td>male</td>\n",
       "      <td>1901</td>\n",
       "      <td>physics</td>\n",
       "      <td>1</td>\n",
       "      <td>Munich University</td>\n",
       "      <td>Munich</td>\n",
       "      <td>Germany</td>\n",
       "      <td>Mar</td>\n",
       "      <td>78</td>\n",
       "      <td>56</td>\n",
       "    </tr>\n",
       "    <tr>\n",
       "      <th>1</th>\n",
       "      <td>Hendrik A.</td>\n",
       "      <td>Lorentz</td>\n",
       "      <td>NL</td>\n",
       "      <td>NL</td>\n",
       "      <td>male</td>\n",
       "      <td>1902</td>\n",
       "      <td>physics</td>\n",
       "      <td>2</td>\n",
       "      <td>Leiden University</td>\n",
       "      <td>Leiden</td>\n",
       "      <td>the Netherlands</td>\n",
       "      <td>Jul</td>\n",
       "      <td>75</td>\n",
       "      <td>49</td>\n",
       "    </tr>\n",
       "    <tr>\n",
       "      <th>2</th>\n",
       "      <td>Pieter</td>\n",
       "      <td>Zeeman</td>\n",
       "      <td>NL</td>\n",
       "      <td>NL</td>\n",
       "      <td>male</td>\n",
       "      <td>1902</td>\n",
       "      <td>physics</td>\n",
       "      <td>2</td>\n",
       "      <td>Amsterdam University</td>\n",
       "      <td>Amsterdam</td>\n",
       "      <td>the Netherlands</td>\n",
       "      <td>May</td>\n",
       "      <td>78</td>\n",
       "      <td>37</td>\n",
       "    </tr>\n",
       "    <tr>\n",
       "      <th>3</th>\n",
       "      <td>Henri</td>\n",
       "      <td>Becquerel</td>\n",
       "      <td>FR</td>\n",
       "      <td>FR</td>\n",
       "      <td>male</td>\n",
       "      <td>1903</td>\n",
       "      <td>physics</td>\n",
       "      <td>2</td>\n",
       "      <td>École Polytechnique</td>\n",
       "      <td>Paris</td>\n",
       "      <td>France</td>\n",
       "      <td>Dec</td>\n",
       "      <td>56</td>\n",
       "      <td>51</td>\n",
       "    </tr>\n",
       "    <tr>\n",
       "      <th>4</th>\n",
       "      <td>Pierre</td>\n",
       "      <td>Curie</td>\n",
       "      <td>FR</td>\n",
       "      <td>FR</td>\n",
       "      <td>male</td>\n",
       "      <td>1903</td>\n",
       "      <td>physics</td>\n",
       "      <td>4</td>\n",
       "      <td>École municipale de physique et de chimie indu...</td>\n",
       "      <td>Paris</td>\n",
       "      <td>France</td>\n",
       "      <td>May</td>\n",
       "      <td>47</td>\n",
       "      <td>44</td>\n",
       "    </tr>\n",
       "    <tr>\n",
       "      <th>...</th>\n",
       "      <td>...</td>\n",
       "      <td>...</td>\n",
       "      <td>...</td>\n",
       "      <td>...</td>\n",
       "      <td>...</td>\n",
       "      <td>...</td>\n",
       "      <td>...</td>\n",
       "      <td>...</td>\n",
       "      <td>...</td>\n",
       "      <td>...</td>\n",
       "      <td>...</td>\n",
       "      <td>...</td>\n",
       "      <td>...</td>\n",
       "      <td>...</td>\n",
       "    </tr>\n",
       "    <tr>\n",
       "      <th>918</th>\n",
       "      <td>Peter</td>\n",
       "      <td>Handke</td>\n",
       "      <td>AT</td>\n",
       "      <td>NaN</td>\n",
       "      <td>male</td>\n",
       "      <td>2019</td>\n",
       "      <td>literature</td>\n",
       "      <td>1</td>\n",
       "      <td>NaN</td>\n",
       "      <td>NaN</td>\n",
       "      <td>NaN</td>\n",
       "      <td>Dec</td>\n",
       "      <td>78</td>\n",
       "      <td>77</td>\n",
       "    </tr>\n",
       "    <tr>\n",
       "      <th>919</th>\n",
       "      <td>Abiy</td>\n",
       "      <td>Ahmed Ali</td>\n",
       "      <td>ET</td>\n",
       "      <td>NaN</td>\n",
       "      <td>male</td>\n",
       "      <td>2019</td>\n",
       "      <td>peace</td>\n",
       "      <td>1</td>\n",
       "      <td>NaN</td>\n",
       "      <td>NaN</td>\n",
       "      <td>NaN</td>\n",
       "      <td>Aug</td>\n",
       "      <td>44</td>\n",
       "      <td>43</td>\n",
       "    </tr>\n",
       "    <tr>\n",
       "      <th>920</th>\n",
       "      <td>Abhijit</td>\n",
       "      <td>Banerjee</td>\n",
       "      <td>IN</td>\n",
       "      <td>NaN</td>\n",
       "      <td>male</td>\n",
       "      <td>2019</td>\n",
       "      <td>economics</td>\n",
       "      <td>3</td>\n",
       "      <td>Massachusetts Institute of Technology (MIT)</td>\n",
       "      <td>Cambridge MA</td>\n",
       "      <td>USA</td>\n",
       "      <td>Feb</td>\n",
       "      <td>59</td>\n",
       "      <td>58</td>\n",
       "    </tr>\n",
       "    <tr>\n",
       "      <th>921</th>\n",
       "      <td>Esther</td>\n",
       "      <td>Duflo</td>\n",
       "      <td>FR</td>\n",
       "      <td>NaN</td>\n",
       "      <td>female</td>\n",
       "      <td>2019</td>\n",
       "      <td>economics</td>\n",
       "      <td>3</td>\n",
       "      <td>Massachusetts Institute of Technology (MIT)</td>\n",
       "      <td>Cambridge MA</td>\n",
       "      <td>USA</td>\n",
       "      <td>Oct</td>\n",
       "      <td>48</td>\n",
       "      <td>47</td>\n",
       "    </tr>\n",
       "    <tr>\n",
       "      <th>922</th>\n",
       "      <td>Michael</td>\n",
       "      <td>Kremer</td>\n",
       "      <td>US</td>\n",
       "      <td>NaN</td>\n",
       "      <td>male</td>\n",
       "      <td>2019</td>\n",
       "      <td>economics</td>\n",
       "      <td>3</td>\n",
       "      <td>Harvard University</td>\n",
       "      <td>Cambridge MA</td>\n",
       "      <td>USA</td>\n",
       "      <td>Nov</td>\n",
       "      <td>56</td>\n",
       "      <td>55</td>\n",
       "    </tr>\n",
       "  </tbody>\n",
       "</table>\n",
       "<p>923 rows × 14 columns</p>\n",
       "</div>"
      ],
      "text/plain": [
       "          firstname    surname born_country_code died_country_code  gender  \\\n",
       "0    Wilhelm Conrad    Röntgen                DE                DE    male   \n",
       "1        Hendrik A.    Lorentz                NL                NL    male   \n",
       "2            Pieter     Zeeman                NL                NL    male   \n",
       "3             Henri  Becquerel                FR                FR    male   \n",
       "4            Pierre      Curie                FR                FR    male   \n",
       "..              ...        ...               ...               ...     ...   \n",
       "918           Peter     Handke                AT               NaN    male   \n",
       "919            Abiy  Ahmed Ali                ET               NaN    male   \n",
       "920         Abhijit   Banerjee                IN               NaN    male   \n",
       "921          Esther      Duflo                FR               NaN  female   \n",
       "922         Michael     Kremer                US               NaN    male   \n",
       "\n",
       "     year    category  share  \\\n",
       "0    1901     physics      1   \n",
       "1    1902     physics      2   \n",
       "2    1902     physics      2   \n",
       "3    1903     physics      2   \n",
       "4    1903     physics      4   \n",
       "..    ...         ...    ...   \n",
       "918  2019  literature      1   \n",
       "919  2019       peace      1   \n",
       "920  2019   economics      3   \n",
       "921  2019   economics      3   \n",
       "922  2019   economics      3   \n",
       "\n",
       "                                    name_of_university city_of_university  \\\n",
       "0                                    Munich University             Munich   \n",
       "1                                    Leiden University             Leiden   \n",
       "2                                 Amsterdam University          Amsterdam   \n",
       "3                                  École Polytechnique              Paris   \n",
       "4    École municipale de physique et de chimie indu...              Paris   \n",
       "..                                                 ...                ...   \n",
       "918                                                NaN                NaN   \n",
       "919                                                NaN                NaN   \n",
       "920        Massachusetts Institute of Technology (MIT)       Cambridge MA   \n",
       "921        Massachusetts Institute of Technology (MIT)       Cambridge MA   \n",
       "922                                 Harvard University       Cambridge MA   \n",
       "\n",
       "    country_of_university born_month  age  age_get_prize  \n",
       "0                 Germany        Mar   78             56  \n",
       "1         the Netherlands        Jul   75             49  \n",
       "2         the Netherlands        May   78             37  \n",
       "3                  France        Dec   56             51  \n",
       "4                  France        May   47             44  \n",
       "..                    ...        ...  ...            ...  \n",
       "918                   NaN        Dec   78             77  \n",
       "919                   NaN        Aug   44             43  \n",
       "920                   USA        Feb   59             58  \n",
       "921                   USA        Oct   48             47  \n",
       "922                   USA        Nov   56             55  \n",
       "\n",
       "[923 rows x 14 columns]"
      ]
     },
     "execution_count": 3,
     "metadata": {},
     "output_type": "execute_result"
    }
   ],
   "source": [
    "Nobel_Prize_data"
   ]
  },
  {
   "cell_type": "code",
   "execution_count": 4,
   "metadata": {},
   "outputs": [
    {
     "data": {
      "text/html": [
       "<div>\n",
       "<style scoped>\n",
       "    .dataframe tbody tr th:only-of-type {\n",
       "        vertical-align: middle;\n",
       "    }\n",
       "\n",
       "    .dataframe tbody tr th {\n",
       "        vertical-align: top;\n",
       "    }\n",
       "\n",
       "    .dataframe thead th {\n",
       "        text-align: right;\n",
       "    }\n",
       "</style>\n",
       "<table border=\"1\" class=\"dataframe\">\n",
       "  <thead>\n",
       "    <tr style=\"text-align: right;\">\n",
       "      <th></th>\n",
       "      <th>firstname</th>\n",
       "      <th>surname</th>\n",
       "      <th>born_country_code</th>\n",
       "      <th>died_country_code</th>\n",
       "      <th>gender</th>\n",
       "      <th>year</th>\n",
       "      <th>category</th>\n",
       "      <th>share</th>\n",
       "      <th>name_of_university</th>\n",
       "      <th>city_of_university</th>\n",
       "      <th>country_of_university</th>\n",
       "      <th>born_month</th>\n",
       "      <th>age</th>\n",
       "      <th>age_get_prize</th>\n",
       "    </tr>\n",
       "  </thead>\n",
       "  <tbody>\n",
       "    <tr>\n",
       "      <th>0</th>\n",
       "      <td>Wilhelm Conrad</td>\n",
       "      <td>Röntgen</td>\n",
       "      <td>DE</td>\n",
       "      <td>DE</td>\n",
       "      <td>male</td>\n",
       "      <td>1901</td>\n",
       "      <td>physics</td>\n",
       "      <td>1</td>\n",
       "      <td>Munich University</td>\n",
       "      <td>Munich</td>\n",
       "      <td>Germany</td>\n",
       "      <td>Mar</td>\n",
       "      <td>78</td>\n",
       "      <td>56</td>\n",
       "    </tr>\n",
       "    <tr>\n",
       "      <th>1</th>\n",
       "      <td>Hendrik A.</td>\n",
       "      <td>Lorentz</td>\n",
       "      <td>NL</td>\n",
       "      <td>NL</td>\n",
       "      <td>male</td>\n",
       "      <td>1902</td>\n",
       "      <td>physics</td>\n",
       "      <td>2</td>\n",
       "      <td>Leiden University</td>\n",
       "      <td>Leiden</td>\n",
       "      <td>the Netherlands</td>\n",
       "      <td>Jul</td>\n",
       "      <td>75</td>\n",
       "      <td>49</td>\n",
       "    </tr>\n",
       "    <tr>\n",
       "      <th>2</th>\n",
       "      <td>Pieter</td>\n",
       "      <td>Zeeman</td>\n",
       "      <td>NL</td>\n",
       "      <td>NL</td>\n",
       "      <td>male</td>\n",
       "      <td>1902</td>\n",
       "      <td>physics</td>\n",
       "      <td>2</td>\n",
       "      <td>Amsterdam University</td>\n",
       "      <td>Amsterdam</td>\n",
       "      <td>the Netherlands</td>\n",
       "      <td>May</td>\n",
       "      <td>78</td>\n",
       "      <td>37</td>\n",
       "    </tr>\n",
       "    <tr>\n",
       "      <th>3</th>\n",
       "      <td>Henri</td>\n",
       "      <td>Becquerel</td>\n",
       "      <td>FR</td>\n",
       "      <td>FR</td>\n",
       "      <td>male</td>\n",
       "      <td>1903</td>\n",
       "      <td>physics</td>\n",
       "      <td>2</td>\n",
       "      <td>École Polytechnique</td>\n",
       "      <td>Paris</td>\n",
       "      <td>France</td>\n",
       "      <td>Dec</td>\n",
       "      <td>56</td>\n",
       "      <td>51</td>\n",
       "    </tr>\n",
       "    <tr>\n",
       "      <th>4</th>\n",
       "      <td>Pierre</td>\n",
       "      <td>Curie</td>\n",
       "      <td>FR</td>\n",
       "      <td>FR</td>\n",
       "      <td>male</td>\n",
       "      <td>1903</td>\n",
       "      <td>physics</td>\n",
       "      <td>4</td>\n",
       "      <td>École municipale de physique et de chimie indu...</td>\n",
       "      <td>Paris</td>\n",
       "      <td>France</td>\n",
       "      <td>May</td>\n",
       "      <td>47</td>\n",
       "      <td>44</td>\n",
       "    </tr>\n",
       "  </tbody>\n",
       "</table>\n",
       "</div>"
      ],
      "text/plain": [
       "        firstname    surname born_country_code died_country_code gender  year  \\\n",
       "0  Wilhelm Conrad    Röntgen                DE                DE   male  1901   \n",
       "1      Hendrik A.    Lorentz                NL                NL   male  1902   \n",
       "2          Pieter     Zeeman                NL                NL   male  1902   \n",
       "3           Henri  Becquerel                FR                FR   male  1903   \n",
       "4          Pierre      Curie                FR                FR   male  1903   \n",
       "\n",
       "  category  share                                 name_of_university  \\\n",
       "0  physics      1                                  Munich University   \n",
       "1  physics      2                                  Leiden University   \n",
       "2  physics      2                               Amsterdam University   \n",
       "3  physics      2                                École Polytechnique   \n",
       "4  physics      4  École municipale de physique et de chimie indu...   \n",
       "\n",
       "  city_of_university country_of_university born_month  age  age_get_prize  \n",
       "0             Munich               Germany        Mar   78             56  \n",
       "1             Leiden       the Netherlands        Jul   75             49  \n",
       "2          Amsterdam       the Netherlands        May   78             37  \n",
       "3              Paris                France        Dec   56             51  \n",
       "4              Paris                France        May   47             44  "
      ]
     },
     "execution_count": 4,
     "metadata": {},
     "output_type": "execute_result"
    }
   ],
   "source": [
    "Nobel_Prize_data.head()"
   ]
  },
  {
   "cell_type": "code",
   "execution_count": 5,
   "metadata": {},
   "outputs": [
    {
     "data": {
      "text/plain": [
       "Index(['firstname', 'surname', 'born_country_code', 'died_country_code',\n",
       "       'gender', 'year', 'category', 'share', 'name_of_university',\n",
       "       'city_of_university', 'country_of_university', 'born_month', 'age',\n",
       "       'age_get_prize'],\n",
       "      dtype='object')"
      ]
     },
     "execution_count": 5,
     "metadata": {},
     "output_type": "execute_result"
    }
   ],
   "source": [
    "Nobel_Prize_data.columns"
   ]
  },
  {
   "cell_type": "code",
   "execution_count": 6,
   "metadata": {},
   "outputs": [
    {
     "data": {
      "text/html": [
       "<div>\n",
       "<style scoped>\n",
       "    .dataframe tbody tr th:only-of-type {\n",
       "        vertical-align: middle;\n",
       "    }\n",
       "\n",
       "    .dataframe tbody tr th {\n",
       "        vertical-align: top;\n",
       "    }\n",
       "\n",
       "    .dataframe thead th {\n",
       "        text-align: right;\n",
       "    }\n",
       "</style>\n",
       "<table border=\"1\" class=\"dataframe\">\n",
       "  <thead>\n",
       "    <tr style=\"text-align: right;\">\n",
       "      <th></th>\n",
       "      <th>year</th>\n",
       "      <th>share</th>\n",
       "      <th>age</th>\n",
       "      <th>age_get_prize</th>\n",
       "    </tr>\n",
       "  </thead>\n",
       "  <tbody>\n",
       "    <tr>\n",
       "      <th>count</th>\n",
       "      <td>923.000000</td>\n",
       "      <td>923.000000</td>\n",
       "      <td>923.000000</td>\n",
       "      <td>923.000000</td>\n",
       "    </tr>\n",
       "    <tr>\n",
       "      <th>mean</th>\n",
       "      <td>1971.102925</td>\n",
       "      <td>2.020585</td>\n",
       "      <td>79.346696</td>\n",
       "      <td>59.823402</td>\n",
       "    </tr>\n",
       "    <tr>\n",
       "      <th>std</th>\n",
       "      <td>33.606425</td>\n",
       "      <td>0.943415</td>\n",
       "      <td>11.134606</td>\n",
       "      <td>12.571109</td>\n",
       "    </tr>\n",
       "    <tr>\n",
       "      <th>min</th>\n",
       "      <td>1901.000000</td>\n",
       "      <td>1.000000</td>\n",
       "      <td>23.000000</td>\n",
       "      <td>17.000000</td>\n",
       "    </tr>\n",
       "    <tr>\n",
       "      <th>25%</th>\n",
       "      <td>1947.000000</td>\n",
       "      <td>1.000000</td>\n",
       "      <td>73.000000</td>\n",
       "      <td>51.000000</td>\n",
       "    </tr>\n",
       "    <tr>\n",
       "      <th>50%</th>\n",
       "      <td>1977.000000</td>\n",
       "      <td>2.000000</td>\n",
       "      <td>80.000000</td>\n",
       "      <td>60.000000</td>\n",
       "    </tr>\n",
       "    <tr>\n",
       "      <th>75%</th>\n",
       "      <td>2000.000000</td>\n",
       "      <td>3.000000</td>\n",
       "      <td>87.500000</td>\n",
       "      <td>69.000000</td>\n",
       "    </tr>\n",
       "    <tr>\n",
       "      <th>max</th>\n",
       "      <td>2019.000000</td>\n",
       "      <td>4.000000</td>\n",
       "      <td>103.000000</td>\n",
       "      <td>97.000000</td>\n",
       "    </tr>\n",
       "  </tbody>\n",
       "</table>\n",
       "</div>"
      ],
      "text/plain": [
       "              year       share         age  age_get_prize\n",
       "count   923.000000  923.000000  923.000000     923.000000\n",
       "mean   1971.102925    2.020585   79.346696      59.823402\n",
       "std      33.606425    0.943415   11.134606      12.571109\n",
       "min    1901.000000    1.000000   23.000000      17.000000\n",
       "25%    1947.000000    1.000000   73.000000      51.000000\n",
       "50%    1977.000000    2.000000   80.000000      60.000000\n",
       "75%    2000.000000    3.000000   87.500000      69.000000\n",
       "max    2019.000000    4.000000  103.000000      97.000000"
      ]
     },
     "execution_count": 6,
     "metadata": {},
     "output_type": "execute_result"
    }
   ],
   "source": [
    "Nobel_Prize_data.describe()"
   ]
  },
  {
   "cell_type": "code",
   "execution_count": 7,
   "metadata": {},
   "outputs": [
    {
     "data": {
      "text/plain": [
       "firstname                  0\n",
       "surname                    2\n",
       "born_country_code          0\n",
       "died_country_code        306\n",
       "gender                     0\n",
       "year                       0\n",
       "category                   0\n",
       "share                      0\n",
       "name_of_university       226\n",
       "city_of_university       231\n",
       "country_of_university    230\n",
       "born_month                 0\n",
       "age                        0\n",
       "age_get_prize              0\n",
       "dtype: int64"
      ]
     },
     "execution_count": 7,
     "metadata": {},
     "output_type": "execute_result"
    }
   ],
   "source": [
    "Nobel_Prize_data.isnull().sum()"
   ]
  },
  {
   "cell_type": "code",
   "execution_count": 8,
   "metadata": {},
   "outputs": [
    {
     "data": {
      "text/plain": [
       "firstname                704\n",
       "surname                  866\n",
       "born_country_code         79\n",
       "died_country_code         46\n",
       "gender                     2\n",
       "year                     116\n",
       "category                   6\n",
       "share                      4\n",
       "name_of_university       307\n",
       "city_of_university       186\n",
       "country_of_university     29\n",
       "born_month                12\n",
       "age                       60\n",
       "age_get_prize             64\n",
       "dtype: int64"
      ]
     },
     "execution_count": 8,
     "metadata": {},
     "output_type": "execute_result"
    }
   ],
   "source": [
    "Nobel_Prize_data.nunique()\n"
   ]
  },
  {
   "cell_type": "code",
   "execution_count": 9,
   "metadata": {},
   "outputs": [
    {
     "data": {
      "text/plain": [
       "firstname                object\n",
       "surname                  object\n",
       "born_country_code        object\n",
       "died_country_code        object\n",
       "gender                   object\n",
       "year                      int64\n",
       "category                 object\n",
       "share                     int64\n",
       "name_of_university       object\n",
       "city_of_university       object\n",
       "country_of_university    object\n",
       "born_month               object\n",
       "age                       int64\n",
       "age_get_prize             int64\n",
       "dtype: object"
      ]
     },
     "execution_count": 9,
     "metadata": {},
     "output_type": "execute_result"
    }
   ],
   "source": [
    "Nobel_Prize_data.dtypes"
   ]
  },
  {
   "cell_type": "code",
   "execution_count": 10,
   "metadata": {},
   "outputs": [],
   "source": [
    "    Nobel_Prize_data.categorical= ['firstname', 'surname', 'born_country_code', 'died_country_code',\n",
    "       'gender', 'year', 'category', 'share', 'name_of_university',\n",
    "       'city_of_university', 'country_of_university', 'born_month']\n",
    "\n"
   ]
  },
  {
   "cell_type": "code",
   "execution_count": 11,
   "metadata": {},
   "outputs": [],
   "source": [
    "    Nobel_Prize_data.numerical= ['age', 'age_get_prize']"
   ]
  },
  {
   "cell_type": "code",
   "execution_count": 12,
   "metadata": {},
   "outputs": [
    {
     "data": {
      "text/plain": [
       "array(['physics', 'chemistry', 'peace', 'medicine', 'literature',\n",
       "       'economics'], dtype=object)"
      ]
     },
     "execution_count": 12,
     "metadata": {},
     "output_type": "execute_result"
    }
   ],
   "source": [
    "Nobel_Prize_data['category'].unique()"
   ]
  },
  {
   "cell_type": "code",
   "execution_count": 13,
   "metadata": {},
   "outputs": [
    {
     "data": {
      "text/plain": [
       "array(['male', 'female'], dtype=object)"
      ]
     },
     "execution_count": 13,
     "metadata": {},
     "output_type": "execute_result"
    }
   ],
   "source": [
    "Nobel_Prize_data['gender'].unique()"
   ]
  },
  {
   "cell_type": "code",
   "execution_count": 14,
   "metadata": {},
   "outputs": [
    {
     "data": {
      "text/plain": [
       "male      869\n",
       "female     54\n",
       "Name: gender, dtype: int64"
      ]
     },
     "execution_count": 14,
     "metadata": {},
     "output_type": "execute_result"
    }
   ],
   "source": [
    "Nobel_Prize_data['gender'].value_counts()"
   ]
  },
  {
   "cell_type": "code",
   "execution_count": 15,
   "metadata": {},
   "outputs": [
    {
     "data": {
      "image/png": "[encoded data removed]",
      "text/plain": [
       "<Figure size 360x432 with 1 Axes>"
      ]
     },
     "metadata": {
      "needs_background": "light"
     },
     "output_type": "display_data"
    }
   ],
   "source": [
    "plt.figure(figsize=(5,6))\n",
    "sns.countplot('gender', data = Nobel_Prize_data.head(2000))\n",
    "plt.xticks(rotation = 90)\n",
    "plt.show()\n"
   ]
  },
  {
   "cell_type": "code",
   "execution_count": 25,
   "metadata": {},
   "outputs": [
    {
     "data": {
      "text/plain": [
       "medicine      219\n",
       "physics       213\n",
       "chemistry     184\n",
       "literature    116\n",
       "peace         107\n",
       "economics      84\n",
       "Name: category, dtype: int64"
      ]
     },
     "execution_count": 25,
     "metadata": {},
     "output_type": "execute_result"
    }
   ],
   "source": [
    "Nobel_Prize_data.category.value_counts()\n"
   ]
  },
  {
   "cell_type": "code",
   "execution_count": 16,
   "metadata": {},
   "outputs": [
    {
     "data": {
      "image/png": "[encoded data removed]",
      "text/plain": [
       "<Figure size 360x432 with 1 Axes>"
      ]
     },
     "metadata": {
      "needs_background": "light"
     },
     "output_type": "display_data"
    }
   ],
   "source": [
    "plt.figure(figsize=(5,6))\n",
    "sns.countplot('category', data = Nobel_Prize_data.head(2000))\n",
    "plt.xticks(rotation = 90)\n",
    "plt.show()"
   ]
  },
  {
   "cell_type": "code",
   "execution_count": 17,
   "metadata": {},
   "outputs": [],
   "source": [
    "import string\n",
    "import re\n"
   ]
  },
  {
   "cell_type": "code",
   "execution_count": 18,
   "metadata": {},
   "outputs": [],
   "source": [
    "Nobel_Prize_data['died_country_code'] = Nobel_Prize_data['died_country_code'].str.lower()\n",
    "Nobel_Prize_data['died_country_code'] = Nobel_Prize_data['died_country_code'].str.replace(\"'\", \"\", regex=False)\n",
    "Nobel_Prize_data['died_country_code'] = Nobel_Prize_data['died_country_code'].str.replace(\" \", \"_\", regex=False)\n",
    "Nobel_Prize_data['name_of_university'] = Nobel_Prize_data['name_of_university'].str.lower()\n",
    "Nobel_Prize_data['name_of_university'] = Nobel_Prize_data['name_of_university'].str.replace(\"'\", \"\", regex=False)\n",
    "Nobel_Prize_data['name_of_university'] = Nobel_Prize_data['name_of_university'].str.replace(\" \", \"_\", regex=False)"
   ]
  },
  {
   "cell_type": "code",
   "execution_count": 19,
   "metadata": {},
   "outputs": [],
   "source": [
    "Nobel_Prize_data['city_of_university'] = Nobel_Prize_data['city_of_university'].str.lower()\n",
    "Nobel_Prize_data['city_of_university'] = Nobel_Prize_data['city_of_university'].str.replace(\"'\", \"\", regex=False)\n",
    "Nobel_Prize_data['city_of_university'] = Nobel_Prize_data['city_of_university'].str.replace(\" \", \"_\", regex=False)"
   ]
  },
  {
   "cell_type": "code",
   "execution_count": 20,
   "metadata": {},
   "outputs": [],
   "source": [
    "Nobel_Prize_data['country_of_university'] = Nobel_Prize_data['country_of_university'].str.lower()\n",
    "Nobel_Prize_data['country_of_university'] = Nobel_Prize_data['country_of_university'].str.replace(\"'\", \"\", regex=False)\n",
    "Nobel_Prize_data['country_of_university'] = Nobel_Prize_data['country_of_university'].str.replace(\" \", \"_\", regex=False)"
   ]
  },
  {
   "cell_type": "code",
   "execution_count": 21,
   "metadata": {},
   "outputs": [],
   "source": [
    "Nobel_Prize_data.died_country_code= Nobel_Prize_data.died_country_code.fillna('Not Available')\n",
    "Nobel_Prize_data.name_of_university= Nobel_Prize_data.name_of_university.fillna('Not Available')\n",
    "Nobel_Prize_data.city_of_university= Nobel_Prize_data.city_of_university.fillna('Not Available')\n",
    "Nobel_Prize_data.country_of_university= Nobel_Prize_data.country_of_university.fillna('Not Available')"
   ]
  },
  {
   "cell_type": "code",
   "execution_count": 23,
   "metadata": {},
   "outputs": [
    {
     "data": {
      "text/html": [
       "<div>\n",
       "<style scoped>\n",
       "    .dataframe tbody tr th:only-of-type {\n",
       "        vertical-align: middle;\n",
       "    }\n",
       "\n",
       "    .dataframe tbody tr th {\n",
       "        vertical-align: top;\n",
       "    }\n",
       "\n",
       "    .dataframe thead th {\n",
       "        text-align: right;\n",
       "    }\n",
       "</style>\n",
       "<table border=\"1\" class=\"dataframe\">\n",
       "  <thead>\n",
       "    <tr style=\"text-align: right;\">\n",
       "      <th></th>\n",
       "      <th>year</th>\n",
       "      <th>share</th>\n",
       "      <th>age</th>\n",
       "      <th>age_get_prize</th>\n",
       "    </tr>\n",
       "  </thead>\n",
       "  <tbody>\n",
       "    <tr>\n",
       "      <th>year</th>\n",
       "      <td>1.000000</td>\n",
       "      <td>0.406203</td>\n",
       "      <td>0.057819</td>\n",
       "      <td>0.328863</td>\n",
       "    </tr>\n",
       "    <tr>\n",
       "      <th>share</th>\n",
       "      <td>0.406203</td>\n",
       "      <td>1.000000</td>\n",
       "      <td>0.047744</td>\n",
       "      <td>0.049965</td>\n",
       "    </tr>\n",
       "    <tr>\n",
       "      <th>age</th>\n",
       "      <td>0.057819</td>\n",
       "      <td>0.047744</td>\n",
       "      <td>1.000000</td>\n",
       "      <td>0.394413</td>\n",
       "    </tr>\n",
       "    <tr>\n",
       "      <th>age_get_prize</th>\n",
       "      <td>0.328863</td>\n",
       "      <td>0.049965</td>\n",
       "      <td>0.394413</td>\n",
       "      <td>1.000000</td>\n",
       "    </tr>\n",
       "  </tbody>\n",
       "</table>\n",
       "</div>"
      ],
      "text/plain": [
       "                   year     share       age  age_get_prize\n",
       "year           1.000000  0.406203  0.057819       0.328863\n",
       "share          0.406203  1.000000  0.047744       0.049965\n",
       "age            0.057819  0.047744  1.000000       0.394413\n",
       "age_get_prize  0.328863  0.049965  0.394413       1.000000"
      ]
     },
     "execution_count": 23,
     "metadata": {},
     "output_type": "execute_result"
    }
   ],
   "source": [
    "Nobel_Prize_data.corr()"
   ]
  },
  {
   "cell_type": "code",
   "execution_count": 24,
   "metadata": {},
   "outputs": [
    {
     "data": {
      "image/png": "[encoded data removed]",
      "text/plain": [
       "<Figure size 1080x432 with 2 Axes>"
      ]
     },
     "metadata": {
      "needs_background": "light"
     },
     "output_type": "display_data"
    }
   ],
   "source": [
    "plt.figure(figsize=(15,6))\n",
    "sns.heatmap(Nobel_Prize_data.corr())\n",
    "plt.show()"
   ]
  },
  {
   "cell_type": "code",
   "execution_count": 28,
   "metadata": {},
   "outputs": [],
   "source": [
    "Nobel_Prize_data.to_csv( r'G:\\'Data_Clean.csv', index=False)\n",
    "\n"
   ]
  }
 ],
 "metadata": {
  "interpreter": {
   "hash": "f08154012ddadd8e950e6e9e035c7a7b32c136e7647e9b7c77e02eb723a8bedb"
  },
  "kernelspec": {
   "display_name": "Python 3.9.7 ('base')",
   "language": "python",
   "name": "python3"
  },
  "language_info": {
   "codemirror_mode": {
    "name": "ipython",
    "version": 3
   },
   "file_extension": ".py",
   "mimetype": "text/x-python",
   "name": "python",
   "nbconvert_exporter": "python",
   "pygments_lexer": "ipython3",
   "version": "3.9.7"
  },
  "orig_nbformat": 4
 },
 "nbformat": 4,
 "nbformat_minor": 2
}
